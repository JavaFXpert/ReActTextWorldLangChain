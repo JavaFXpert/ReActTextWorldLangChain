{
  "cells": [
    {
      "cell_type": "markdown",
      "metadata": {
        "id": "view-in-github",
        "colab_type": "text"
      },
      "source": [
        "<a href=\"https://colab.research.google.com/github/JavaFXpert/ReActTextWorldLangChain/blob/main/ReActTextWorldPublic.ipynb\" target=\"_parent\"><img src=\"https://colab.research.google.com/assets/colab-badge.svg\" alt=\"Open In Colab\"/></a>"
      ]
    },
    {
      "cell_type": "markdown",
      "metadata": {
        "id": "igsFMLNqEjXL"
      },
      "source": [
        "# Playing a TextWorld game with a LangChain ReAct agent\n",
        "Notebook for playing a TextWorld game with a LangChain ReAct agent."
      ]
    },
    {
      "cell_type": "markdown",
      "metadata": {
        "id": "5nEtJxD5EjXL"
      },
      "source": [
        "## Prerequisite\n",
        "Install TextWorld as described in the [README.md](https://github.com/microsoft/TextWorld#readme). Most of the time, a simple `pip install` should work.\n",
        "\n",
        "<span style=\"color:red\">_*Notice here that TextWorld is installed with the `[vis]` extras to enable visual rendering of the world._</span>"
      ]
    },
    {
      "cell_type": "code",
      "execution_count": null,
      "metadata": {
        "id": "FToOmuQ5EjXM"
      },
      "outputs": [],
      "source": [
        "# For Google Colab, first install\n",
        "!apt install chromium-chromedriver\n",
        "!pip install selenium==3.12.0\n",
        "# then\n",
        "!pip install textworld[vis]"
      ]
    },
    {
      "cell_type": "code",
      "source": [
        "!pip install langchain"
      ],
      "metadata": {
        "id": "igyaxjELx4gQ"
      },
      "execution_count": null,
      "outputs": []
    },
    {
      "cell_type": "code",
      "source": [
        "!pip install openai"
      ],
      "metadata": {
        "id": "KLA1A7Kk-XMz"
      },
      "execution_count": null,
      "outputs": []
    },
    {
      "cell_type": "markdown",
      "metadata": {
        "id": "dhJML6J0O3gZ"
      },
      "source": [
        "#Generate TextWorld Game#"
      ]
    },
    {
      "cell_type": "code",
      "execution_count": null,
      "metadata": {
        "id": "T5oDLzlKO766"
      },
      "outputs": [],
      "source": [
        "import textworld\n",
        "!tw-make custom --world-size 2 --quest-length 3 --nb-objects 10 --output tw_games/game.ulx -f -v --seed 456"
      ]
    },
    {
      "cell_type": "code",
      "execution_count": null,
      "metadata": {
        "id": "W4gfuBEmQVIS"
      },
      "outputs": [],
      "source": [
        "# Let the environment know what information we want as part of the game state.\n",
        "infos = textworld.EnvInfos(\n",
        "    feedback=True,    # Response from the game after typing a text command.\n",
        "    description=True, # Text describing the room the player is currently in.\n",
        "    inventory=True    # Text describing the player's inventory.\n",
        ")"
      ]
    },
    {
      "cell_type": "code",
      "execution_count": null,
      "metadata": {
        "id": "BrUDSq0bQFxV"
      },
      "outputs": [],
      "source": [
        "# Get a reference to the game environment.\n",
        "TW_ENV = textworld.start('tw_games/game.ulx', infos)"
      ]
    },
    {
      "cell_type": "markdown",
      "source": [
        "#LangChain ReAct stuff#"
      ],
      "metadata": {
        "id": "3EGIaarvxdsm"
      }
    },
    {
      "cell_type": "code",
      "source": [
        "import os\n",
        "os.environ[\"OPENAI_API_KEY\"] = \"\""
      ],
      "metadata": {
        "id": "ovKGH1P49qGA"
      },
      "execution_count": null,
      "outputs": []
    },
    {
      "cell_type": "code",
      "source": [
        "from langchain.prompts.prompt import PromptTemplate\n",
        "from langchain import OpenAI"
      ],
      "metadata": {
        "id": "clheJ7KSjJA8"
      },
      "execution_count": null,
      "outputs": []
    },
    {
      "cell_type": "code",
      "source": [
        "EXAMPLES = [\n",
        "    \"\"\"Setup: You are now playing a fast paced round of TextWorld! Here is your task for\n",
        "today. First of all, you could, like, try to travel east. After that, take the\n",
        "binder from the locker. With the binder, place the binder on the mantelpiece.\n",
        "Alright, thanks!\n",
        "\n",
        "-= Vault =-\n",
        "You've just walked into a vault. You begin to take stock of what's here.\n",
        "\n",
        "An open safe is here. What a letdown! The safe is empty! You make out a shelf.\n",
        "But the thing hasn't got anything on it. What, you think everything in TextWorld\n",
        "should have stuff on it?\n",
        "\n",
        "You don't like doors? Why not try going east, that entranceway is unguarded.\n",
        "\n",
        "Thought 1: I need to travel east\n",
        "Action 1: Play[go east]\n",
        "Observation 1: -= Office =-\n",
        "You arrive in an office. An ordinary one.\n",
        "\n",
        "You can make out a locker. The locker contains a binder. You see a case. The\n",
        "case is empty, what a horrible day! You lean against the wall, inadvertently\n",
        "pressing a secret button. The wall opens up to reveal a mantelpiece. You wonder\n",
        "idly who left that here. The mantelpiece is standard. The mantelpiece appears to\n",
        "be empty. If you haven't noticed it already, there seems to be something there\n",
        "by the wall, it's a table. Unfortunately, there isn't a thing on it. Hm. Oh well\n",
        "There is an exit to the west. Don't worry, it is unguarded.\n",
        "\n",
        "Thought 2: I need to take the binder from the locker\n",
        "Action 2: Play[take binder]\n",
        "Observation 2: You take the binder from the locker.\n",
        "\n",
        "Thought 3: I need to place the binder on the mantelpiece\n",
        "Action 3: Play[put binder on mantelpiece]\n",
        "\n",
        "Observation 3: You put the binder on the mantelpiece.\n",
        "Your score has just gone up by one point.\n",
        "*** The End ***\n",
        "Thought 4: The End has occurred\n",
        "Action 4: Finish[yes]\n",
        "\n",
        "\"\"\"\n",
        "]\n",
        "SUFFIX = \"\"\"\\n\\nSetup: {input}\"\"\"\n",
        "\n",
        "PROMPT = PromptTemplate.from_examples(EXAMPLES, SUFFIX, [\"input\"])\n"
      ],
      "metadata": {
        "id": "Ie6sH7Go5ELL"
      },
      "execution_count": null,
      "outputs": []
    },
    {
      "cell_type": "code",
      "source": [
        "import re\n",
        "from typing import Any, ClassVar, Dict, List, Optional, Tuple\n",
        "\n",
        "from pydantic import BaseModel\n",
        "\n",
        "from langchain.agents.agent import Agent\n",
        "from langchain.agents.tools import Tool\n",
        "from langchain.chains.llm import LLMChain\n",
        "from langchain.docstore.base import Docstore\n",
        "from langchain.docstore.document import Document\n",
        "from langchain.llms.base import LLM\n",
        "from langchain.prompts.base import BasePromptTemplate\n",
        "from langchain.input import ChainedInput, get_color_mapping\n",
        "from langchain.agents.react.base import ReActDocstoreAgent\n",
        "\n",
        "from textworld.core import Environment, GameState\n",
        "\n",
        "class ReActTextWorldAgent(ReActDocstoreAgent, BaseModel):\n",
        "    \"\"\"Agent for the ReAct TextWorld chain.\"\"\"\n",
        "\n",
        "    prompt: ClassVar[BasePromptTemplate] = PROMPT\n",
        "\n",
        "    i: int = 1\n",
        "\n",
        "    @classmethod\n",
        "    def _validate_tools(cls, tools: List[Tool]) -> None:\n",
        "        if len(tools) != 1:\n",
        "            raise ValueError(f\"Exactly one tool must be specified, but got {tools}\")\n",
        "        tool_names = {tool.name for tool in tools}\n",
        "        if tool_names != {\"Play\"}:\n",
        "            raise ValueError(\n",
        "                f\"Tool name should be Play, got {tool_names}\"\n",
        "            )\n"
      ],
      "metadata": {
        "id": "0rwxoPCM_Ryl"
      },
      "execution_count": null,
      "outputs": []
    },
    {
      "cell_type": "code",
      "source": [
        "import sys\n",
        "class HiddenPrints:\n",
        "    \"\"\"Context manager to hide prints.\"\"\"\n",
        "\n",
        "    def __enter__(self) -> None:\n",
        "        \"\"\"Open file to pipe stdout to.\"\"\"\n",
        "        self._original_stdout = sys.stdout\n",
        "        sys.stdout = open(os.devnull, \"w\")\n",
        "\n",
        "    def __exit__(self, *_: Any) -> None:\n",
        "        \"\"\"Close file that stdout was piped to.\"\"\"\n",
        "        sys.stdout.close()\n",
        "        sys.stdout = self._original_stdout\n",
        "\n",
        "class TextWorldInteract:\n",
        "    \"\"\"Class to interact with a TextWorld game.\"\"\"\n",
        "\n",
        "    def __init__(self, textworld_env: Environment):\n",
        "        \"\"\"Initialize with the TextWorld game environment.\"\"\"\n",
        "        self.textworld_env = textworld_env\n",
        "\n",
        "    # def init(self) -> str:\n",
        "    #     \"\"\"Initialize the game and return initial render.\"\"\"\n",
        "    #     if self.textworld_env is None:\n",
        "    #         raise ValueError(\"TextWorld game environment not set\")\n",
        "    #     game_state = self.textworld_env.reset()    \n",
        "    #     render_str = game_state.objective + \"\\n\\n\" + game_state.description\n",
        "    #     return render_str   \n",
        "\n",
        "    def play(self, command) -> str:\n",
        "        \"\"\"Process a command and render the result.\"\"\"\n",
        "        if self.textworld_env is None:\n",
        "            raise ValueError(\"TextWorld game environment not set\")\n",
        "        with HiddenPrints():\n",
        "          game_state, reward, done = self.textworld_env.step(command)    \n",
        "        return game_state[\"feedback\"]       \n"
      ],
      "metadata": {
        "id": "ebcN3t2tPEOX"
      },
      "execution_count": null,
      "outputs": []
    },
    {
      "cell_type": "code",
      "source": [
        "textworld_tool=TextWorldInteract(TW_ENV)\n",
        "tools = [\n",
        "    # TODO: Try to use this tool to initialize a game and produce the first render, rather than supplying the first render to the run method\n",
        "    # Tool(\n",
        "    #     name = \"Init\",\n",
        "    #     func = textworld_tool.init,\n",
        "    #     description=\"Initializes the TextWorld game environment requests initial game text\"\n",
        "    # ),\n",
        "    Tool(\n",
        "        name = \"Play\",\n",
        "        func = textworld_tool.play,\n",
        "        description=\"useful for interacting with a TextWorld game environment\"\n",
        "    )\n",
        "]\n",
        "\n",
        "llm = OpenAI(temperature=0)"
      ],
      "metadata": {
        "id": "9xxFf524PEtc"
      },
      "execution_count": null,
      "outputs": []
    },
    {
      "cell_type": "code",
      "source": [
        "react = ReActTextWorldAgent.from_llm_and_tools(llm, tools)\n",
        "react.verbose = True"
      ],
      "metadata": {
        "id": "mWcEPyJTPEpb"
      },
      "execution_count": null,
      "outputs": []
    },
    {
      "cell_type": "code",
      "source": [
        "print(PROMPT.template)"
      ],
      "metadata": {
        "id": "8ustDrFfPEgr"
      },
      "execution_count": null,
      "outputs": []
    },
    {
      "cell_type": "code",
      "source": [
        "game_state = TW_ENV.reset()\n",
        "init_text = game_state.objective + \"\\n\\n\" + game_state.description\n",
        "react.run(init_text)"
      ],
      "metadata": {
        "id": "II4qBWjsoleb"
      },
      "execution_count": null,
      "outputs": []
    },
    {
      "cell_type": "markdown",
      "source": [
        "#Play game manually#"
      ],
      "metadata": {
        "id": "P7OVrVoGBXyV"
      }
    },
    {
      "cell_type": "code",
      "source": [
        "game_state = TW_ENV.reset()"
      ],
      "metadata": {
        "id": "lb-ZI7HFjqhs"
      },
      "execution_count": null,
      "outputs": []
    },
    {
      "cell_type": "code",
      "source": [
        "TW_ENV.render()"
      ],
      "metadata": {
        "id": "Y3oGjPhYjqlM"
      },
      "execution_count": null,
      "outputs": []
    },
    {
      "cell_type": "code",
      "source": [
        "# game_state, reward, done = TW_ENV.step(\"go south\")\n",
        "# TW_ENV.render()"
      ],
      "metadata": {
        "id": "0sKGFHaZjqoG"
      },
      "execution_count": null,
      "outputs": []
    }
  ],
  "metadata": {
    "colab": {
      "provenance": [],
      "include_colab_link": true
    },
    "kernelspec": {
      "display_name": "Python 3",
      "language": "python",
      "name": "python3"
    },
    "language_info": {
      "codemirror_mode": {
        "name": "ipython",
        "version": 3
      },
      "file_extension": ".py",
      "mimetype": "text/x-python",
      "name": "python",
      "nbconvert_exporter": "python",
      "pygments_lexer": "ipython3",
      "version": "3.7.3"
    }
  },
  "nbformat": 4,
  "nbformat_minor": 0
}