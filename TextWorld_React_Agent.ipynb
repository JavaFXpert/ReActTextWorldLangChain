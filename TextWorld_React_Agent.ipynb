{
  "cells": [
    {
      "cell_type": "markdown",
      "metadata": {
        "id": "view-in-github",
        "colab_type": "text"
      },
      "source": [
        "<a href=\"https://colab.research.google.com/github/JavaFXpert/ReActTextWorldLangChain/blob/main/TextWorld_React_Agent.ipynb\" target=\"_parent\"><img src=\"https://colab.research.google.com/assets/colab-badge.svg\" alt=\"Open In Colab\"/></a>"
      ]
    },
    {
      "cell_type": "markdown",
      "metadata": {
        "id": "igsFMLNqEjXL"
      },
      "source": [
        "# TextWorld React Agent\n",
        "Notebook for creating and playing a [TextWorld](https://www.microsoft.com/en-us/research/project/textworld/) game with a LangChain ReAct agent and OpenAI GPT-3."
      ]
    },
    {
      "cell_type": "markdown",
      "metadata": {
        "id": "5nEtJxD5EjXL"
      },
      "source": [
        "## Prerequisites\n",
        "Install the TextWorld [README.md](https://github.com/microsoft/TextWorld#readme), [LangChain](https://github.com/hwchase17/langchain) and [OpenAI](https://openai.com/) libraries."
      ]
    },
    {
      "cell_type": "code",
      "source": [
        "!pip install textworld"
      ],
      "metadata": {
        "id": "bHyLHRL8JnzE"
      },
      "execution_count": null,
      "outputs": []
    },
    {
      "cell_type": "code",
      "source": [
        "!pip install --pre -i https://test.pypi.org/simple  langchain==0.0.27"
      ],
      "metadata": {
        "id": "igyaxjELx4gQ"
      },
      "execution_count": null,
      "outputs": []
    },
    {
      "cell_type": "code",
      "source": [
        "!pip install openai"
      ],
      "metadata": {
        "id": "KLA1A7Kk-XMz"
      },
      "execution_count": null,
      "outputs": []
    },
    {
      "cell_type": "markdown",
      "metadata": {
        "id": "dhJML6J0O3gZ"
      },
      "source": [
        "## Generate a TextWorld game\n",
        "We'll use the [tw-make](https://textworld.readthedocs.io/en/stable/tw-make.html) script to define and generate a TextWorld game."
      ]
    },
    {
      "cell_type": "code",
      "execution_count": null,
      "metadata": {
        "id": "T5oDLzlKO766"
      },
      "outputs": [],
      "source": [
        "import textworld\n",
        "!tw-make custom --world-size 5 --quest-length 6 --nb-objects 10 --output tw_games/game.ulx -f -v --seed 456"
      ]
    },
    {
      "cell_type": "code",
      "execution_count": null,
      "metadata": {
        "id": "W4gfuBEmQVIS"
      },
      "outputs": [],
      "source": [
        "# Let the environment know what information we want as part of the game state.\n",
        "infos = textworld.EnvInfos(\n",
        "    feedback=True,    # Response from the game after typing a text command.\n",
        "    description=True, # Text describing the room the player is currently in.\n",
        "    inventory=True    # Text describing the player's inventory.\n",
        ")"
      ]
    },
    {
      "cell_type": "code",
      "execution_count": null,
      "metadata": {
        "id": "BrUDSq0bQFxV"
      },
      "outputs": [],
      "source": [
        "# Get a reference to the game environment.\n",
        "TW_ENV = textworld.start('tw_games/game.ulx', infos)"
      ]
    },
    {
      "cell_type": "markdown",
      "source": [
        "## Create a LangChain Tool to interact with the TextWorld game environment"
      ],
      "metadata": {
        "id": "3EGIaarvxdsm"
      }
    },
    {
      "cell_type": "code",
      "source": [
        "import sys\n",
        "class HiddenPrints:\n",
        "    \"\"\"Context manager to hide prints.\"\"\"\n",
        "\n",
        "    def __enter__(self) -> None:\n",
        "        \"\"\"Open file to pipe stdout to.\"\"\"\n",
        "        self._original_stdout = sys.stdout\n",
        "        sys.stdout = open(os.devnull, \"w\")\n",
        "\n",
        "    def __exit__(self, *_) -> None:\n",
        "        \"\"\"Close file that stdout was piped to.\"\"\"\n",
        "        sys.stdout.close()\n",
        "        sys.stdout = self._original_stdout\n",
        "\n",
        "class TextWorldInteract:\n",
        "    \"\"\"Class to interact with a TextWorld game.\"\"\"\n",
        "\n",
        "    def __init__(self, textworld_env):\n",
        "        \"\"\"Initialize with the TextWorld game environment.\"\"\"\n",
        "        self.textworld_env = textworld_env\n",
        "\n",
        "    def play(self, command) -> str:\n",
        "        \"\"\"Process a command and render the result.\"\"\"\n",
        "        if self.textworld_env is None:\n",
        "            raise ValueError(\"TextWorld game environment not set\")\n",
        "        with HiddenPrints():\n",
        "          game_state, reward, done = self.textworld_env.step(command)    \n",
        "        return game_state[\"feedback\"]       \n"
      ],
      "metadata": {
        "id": "ebcN3t2tPEOX"
      },
      "execution_count": null,
      "outputs": []
    },
    {
      "cell_type": "code",
      "source": [
        "from langchain.agents import Tool\n",
        "textworld_tool=TextWorldInteract(TW_ENV)\n",
        "tools = [\n",
        "    Tool(\n",
        "        name = \"Play\",\n",
        "        func = textworld_tool.play,\n",
        "        description=\"useful for interacting with a TextWorld game environment\"\n",
        "    )\n",
        "]"
      ],
      "metadata": {
        "id": "9xxFf524PEtc"
      },
      "execution_count": null,
      "outputs": []
    },
    {
      "cell_type": "markdown",
      "source": [
        "## Set up ReActTextWorld Agent and play the game"
      ],
      "metadata": {
        "id": "xwVrlcNDgHgo"
      }
    },
    {
      "cell_type": "code",
      "source": [
        "# Supply your OpenAI API key\n",
        "import os\n",
        "os.environ[\"OPENAI_API_KEY\"] = \"\""
      ],
      "metadata": {
        "id": "VwyEAfDygHTX"
      },
      "execution_count": null,
      "outputs": []
    },
    {
      "cell_type": "code",
      "source": [
        "from langchain.agents import ReActTextWorldAgent\n",
        "from langchain import OpenAI\n",
        "llm = OpenAI(temperature=0)"
      ],
      "metadata": {
        "id": "Gg-4JkHrftcF"
      },
      "execution_count": null,
      "outputs": []
    },
    {
      "cell_type": "code",
      "source": [
        "react = ReActTextWorldAgent.from_llm_and_tools(llm, tools, verbose=True)"
      ],
      "metadata": {
        "id": "mWcEPyJTPEpb"
      },
      "execution_count": null,
      "outputs": []
    },
    {
      "cell_type": "code",
      "source": [
        "game_state = TW_ENV.reset()\n",
        "init_text = game_state.objective + \"\\n\\n\" + game_state.description\n",
        "react.run(init_text)"
      ],
      "metadata": {
        "id": "II4qBWjsoleb",
        "colab": {
          "base_uri": "https://localhost:8080/",
          "height": 1000
        },
        "outputId": "2812b795-50ff-4ccc-9399-04257388b0b6"
      },
      "execution_count": null,
      "outputs": [
        {
          "output_type": "stream",
          "name": "stdout",
          "text": [
            "\n",
            "\n",
            "\u001b[1m> Entering new ReActTextWorldAgent chain...\u001b[0m\n",
            "Hey, thanks for coming over to the TextWorld today, there is something I need you to do for me. First step, pick up the key from the rectangular locker. After you have got the key, make sure that the passageway in the cookery is unlocked. And then, open the passageway. Then, head east. With that done, retrieve the latchkey from the counter. Then, check that the chest in the attic is unlocked with the latchkey. And once you've done that, you win!\n",
            "\n",
            "-= Cookery =-\n",
            "You've just walked into a cookery.\n",
            "\n",
            "You can see a rectangular locker. The rectangular locker contains a key, a rectangular keycard and a knife. You see an opened cabinet. Empty! What kind of nightmare TextWorld is this?\n",
            "\n",
            "There is a closed passageway leading east. You need an unblocked exit? You should try going north.\n",
            "Thought 1:\u001b[32;1m\u001b[1;3m I need to pick up the key from the rectangular locker\n",
            "Action 1: Play[take key]\u001b[0m\n",
            "Observation 1: \u001b[36;1m\u001b[1;3mYou take the key from the rectangular locker.\n",
            "\n",
            "\u001b[0m\n",
            "Thought 2:\u001b[32;1m\u001b[1;3m I need to make sure the passageway in the cookery is unlocked\n",
            "Action 2: Play[unlock passageway]\u001b[0m\n",
            "Observation 2: \u001b[36;1m\u001b[1;3m(with the key)\n",
            "You unlock passageway.\n",
            "\n",
            "\u001b[0m\n",
            "Thought 3:\u001b[32;1m\u001b[1;3m I need to open the passageway\n",
            "Action 3: Play[open passageway]\u001b[0m\n",
            "Observation 3: \u001b[36;1m\u001b[1;3mYou open passageway.\n",
            "\n",
            "\u001b[0m\n",
            "Thought 4:\u001b[32;1m\u001b[1;3m I need to head east\n",
            "Action 4: Play[go east]\u001b[0m\n",
            "Observation 4: \u001b[36;1m\u001b[1;3m\n",
            "-= Attic =-\n",
            "I am sorry to announce that you are now in the attic.\n",
            "\n",
            "You can see a chest. You can see a counter. The counter is typical. On the counter you can see a latchkey, so there's that.\n",
            "\n",
            "There is an open passageway leading west. There is an exit to the east. Don't worry, it is unblocked. You don't like doors? Why not try going north, that entranceway is unblocked.\n",
            "\n",
            "\u001b[0m\n",
            "Thought 5:\u001b[32;1m\u001b[1;3m I need to retrieve the latchkey from the counter\n",
            "Action 5: Play[take latchkey]\u001b[0m\n",
            "Observation 5: \u001b[36;1m\u001b[1;3mYou take the latchkey from the counter.\n",
            "\n",
            "\u001b[0m\n",
            "Thought 6:\u001b[32;1m\u001b[1;3m I need to check that the chest in the attic is unlocked with the latchkey\n",
            "Action 6: Play[unlock chest with latchkey]\u001b[0m\n",
            "Observation 6: \u001b[36;1m\u001b[1;3mYou unlock the chest.\n",
            "\n",
            "\n",
            "Your score has just gone up by one point.\n",
            "\n",
            "\n",
            "                               *** The End ***\n",
            "\n",
            "You scored 1 out of a possible 1, in 7 turns.\n",
            "\n",
            "\n",
            "Would you like to RESTART, RESTORE a saved game, QUIT or UNDO the last command?\n",
            "> \u001b[0m\n",
            "Thought 7:\u001b[32;1m\u001b[1;3m The End has occurred\n",
            "Action 7: Finish[yes]\u001b[0m\n",
            "\u001b[1m> Finished ReActTextWorldAgent chain.\u001b[0m\n"
          ]
        },
        {
          "output_type": "execute_result",
          "data": {
            "text/plain": [
              "'yes'"
            ],
            "application/vnd.google.colaboratory.intrinsic+json": {
              "type": "string"
            }
          },
          "metadata": {},
          "execution_count": 12
        }
      ]
    }
  ],
  "metadata": {
    "colab": {
      "provenance": [],
      "include_colab_link": true
    },
    "kernelspec": {
      "display_name": "Python 3",
      "language": "python",
      "name": "python3"
    },
    "language_info": {
      "codemirror_mode": {
        "name": "ipython",
        "version": 3
      },
      "file_extension": ".py",
      "mimetype": "text/x-python",
      "name": "python",
      "nbconvert_exporter": "python",
      "pygments_lexer": "ipython3",
      "version": "3.7.3"
    }
  },
  "nbformat": 4,
  "nbformat_minor": 0
}